{
 "cells": [
  {
   "cell_type": "code",
   "execution_count": 3,
   "metadata": {},
   "outputs": [
    {
     "name": "stdout",
     "output_type": "stream",
     "text": [
      "Requirement already satisfied: dash==1.12.0 in /Users/terrenceam22/.local/share/virtualenvs/Build-y0sQtMMk/lib/python3.7/site-packages (1.12.0)\n",
      "Requirement already satisfied: flask-compress in /Users/terrenceam22/.local/share/virtualenvs/Build-y0sQtMMk/lib/python3.7/site-packages (from dash==1.12.0) (1.5.0)\n",
      "Requirement already satisfied: dash-table==4.7.0 in /Users/terrenceam22/.local/share/virtualenvs/Build-y0sQtMMk/lib/python3.7/site-packages (from dash==1.12.0) (4.7.0)\n",
      "Requirement already satisfied: dash-core-components==1.10.0 in /Users/terrenceam22/.local/share/virtualenvs/Build-y0sQtMMk/lib/python3.7/site-packages (from dash==1.12.0) (1.10.0)\n",
      "Requirement already satisfied: plotly in /Users/terrenceam22/.local/share/virtualenvs/Build-y0sQtMMk/lib/python3.7/site-packages (from dash==1.12.0) (4.7.1)\n",
      "Requirement already satisfied: future in /Users/terrenceam22/.local/share/virtualenvs/Build-y0sQtMMk/lib/python3.7/site-packages (from dash==1.12.0) (0.18.2)\n",
      "Requirement already satisfied: dash-html-components==1.0.3 in /Users/terrenceam22/.local/share/virtualenvs/Build-y0sQtMMk/lib/python3.7/site-packages (from dash==1.12.0) (1.0.3)\n",
      "Requirement already satisfied: Flask>=1.0.2 in /Users/terrenceam22/.local/share/virtualenvs/Build-y0sQtMMk/lib/python3.7/site-packages (from dash==1.12.0) (1.1.2)\n",
      "Requirement already satisfied: dash-renderer==1.4.1 in /Users/terrenceam22/.local/share/virtualenvs/Build-y0sQtMMk/lib/python3.7/site-packages (from dash==1.12.0) (1.4.1)\n",
      "Requirement already satisfied: brotli in /Users/terrenceam22/.local/share/virtualenvs/Build-y0sQtMMk/lib/python3.7/site-packages (from flask-compress->dash==1.12.0) (1.0.7)\n",
      "Requirement already satisfied: retrying>=1.3.3 in /Users/terrenceam22/.local/share/virtualenvs/Build-y0sQtMMk/lib/python3.7/site-packages (from plotly->dash==1.12.0) (1.3.3)\n",
      "Requirement already satisfied: six in /Users/terrenceam22/.local/share/virtualenvs/Build-y0sQtMMk/lib/python3.7/site-packages (from plotly->dash==1.12.0) (1.15.0)\n",
      "Requirement already satisfied: itsdangerous>=0.24 in /Users/terrenceam22/.local/share/virtualenvs/Build-y0sQtMMk/lib/python3.7/site-packages (from Flask>=1.0.2->dash==1.12.0) (1.1.0)\n",
      "Requirement already satisfied: click>=5.1 in /Users/terrenceam22/.local/share/virtualenvs/Build-y0sQtMMk/lib/python3.7/site-packages (from Flask>=1.0.2->dash==1.12.0) (7.1.2)\n",
      "Requirement already satisfied: Werkzeug>=0.15 in /Users/terrenceam22/.local/share/virtualenvs/Build-y0sQtMMk/lib/python3.7/site-packages (from Flask>=1.0.2->dash==1.12.0) (1.0.1)\n",
      "Requirement already satisfied: Jinja2>=2.10.1 in /Users/terrenceam22/.local/share/virtualenvs/Build-y0sQtMMk/lib/python3.7/site-packages (from Flask>=1.0.2->dash==1.12.0) (2.11.2)\n",
      "Requirement already satisfied: MarkupSafe>=0.23 in /Users/terrenceam22/.local/share/virtualenvs/Build-y0sQtMMk/lib/python3.7/site-packages (from Jinja2>=2.10.1->Flask>=1.0.2->dash==1.12.0) (1.1.1)\n"
     ]
    }
   ],
   "source": [
    "!pip install dash==1.12.0"
   ]
  },
  {
   "cell_type": "code",
   "execution_count": 7,
   "metadata": {},
   "outputs": [],
   "source": [
    "import dash\n",
    "import dash_core_components as dcc\n",
    "import dash_html_components as html\n",
    "from flask import Flask"
   ]
  },
  {
   "cell_type": "code",
   "execution_count": null,
   "metadata": {},
   "outputs": [
    {
     "name": "stdout",
     "output_type": "stream",
     "text": [
      "Running on http://127.0.0.1:8050/\n",
      "Running on http://127.0.0.1:8050/\n",
      "Running on http://127.0.0.1:8050/\n",
      "Debugger PIN: 675-867-687\n",
      "Debugger PIN: 675-867-687\n",
      "Debugger PIN: 675-867-687\n",
      " * Serving Flask app \"__main__\" (lazy loading)\n",
      " * Environment: production\n",
      "\u001b[31m   WARNING: This is a development server. Do not use it in a production deployment.\u001b[0m\n",
      "\u001b[2m   Use a production WSGI server instead.\u001b[0m\n",
      " * Debug mode: on\n"
     ]
    }
   ],
   "source": [
    "external_stylesheets = ['https://codepen.io/chriddyp/pen/bWLwgP.css']\n",
    "\n",
    "app = dash.Dash(__name__, external_stylesheets=external_stylesheets)\n",
    "\n",
    "app.layout = html.Div(children=[\n",
    "    html.H1(children='Hello Dash'),\n",
    "\n",
    "    html.Div(children='''\n",
    "        Dash: A web application framework for Python.\n",
    "    '''),\n",
    "\n",
    "    dcc.Graph(\n",
    "        id='example-graph',\n",
    "        figure={\n",
    "            'data': [\n",
    "                {'x': [1, 2, 3], 'y': [4, 1, 2], 'type': 'bar', 'name': 'SF'},\n",
    "                {'x': [1, 2, 3], 'y': [2, 4, 5], 'type': 'bar', 'name': u'Montréal'},\n",
    "            ],\n",
    "            'layout': {\n",
    "                'title': 'Dash Data Visualization'\n",
    "            }\n",
    "        }\n",
    "    )\n",
    "])\n",
    "\n",
    "if __name__ == '__main__':\n",
    "    app.run_server(debug=True, use_reloader=False)"
   ]
  },
  {
   "cell_type": "code",
   "execution_count": null,
   "metadata": {},
   "outputs": [],
   "source": []
  }
 ],
 "metadata": {
  "kernelspec": {
   "display_name": "Python 3",
   "language": "python",
   "name": "python3"
  },
  "language_info": {
   "codemirror_mode": {
    "name": "ipython",
    "version": 3
   },
   "file_extension": ".py",
   "mimetype": "text/x-python",
   "name": "python",
   "nbconvert_exporter": "python",
   "pygments_lexer": "ipython3",
   "version": "3.7.7"
  }
 },
 "nbformat": 4,
 "nbformat_minor": 4
}
